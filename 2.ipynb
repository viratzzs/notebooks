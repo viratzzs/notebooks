{
 "cells": [
  {
   "cell_type": "code",
   "execution_count": 1,
   "id": "e0ace17a-4a08-404c-9c42-e83fbc1f04ba",
   "metadata": {},
   "outputs": [],
   "source": [
    "import torch\n",
    "import os\n",
    "import pandas as pd\n",
    "from torch.utils.data import Dataset\n",
    "from torchvision.transforms import ToTensor\n",
    "from torchvision.io import decode_image"
   ]
  },
  {
   "cell_type": "markdown",
   "id": "8032fe6a-c351-4ac2-8612-528652b4f06c",
   "metadata": {},
   "source": [
    "## Dataset\n",
    "Just a sample to see how to fw a custom dataset object, shaping it in FashionMNIST format."
   ]
  },
  {
   "cell_type": "code",
   "execution_count": 2,
   "id": "5d9f3452-c8c1-4b77-873b-045cf4e2f8f3",
   "metadata": {},
   "outputs": [],
   "source": [
    "class CustomImageDataset(Dataset):\n",
    "    def __init__(self, annotations_file, img_dir, transform = None, target_transform = None):\n",
    "        self.image_labels = pd.read_csv(annotations_file)\n",
    "        self.img_dir = img_dir\n",
    "        self.transform = transform\n",
    "        self.target_transform = target_transform\n",
    "\n",
    "    def __len__(self):\n",
    "        return len(self.image_labels)\n",
    "\n",
    "    def __get_item__(self, idx):\n",
    "        \"\"\"Returns image's tensor and the label for each input index\"\"\"\n",
    "        img_path = os.path.join(self.img_dir, self.image_labels.iloc[idx, 0])\n",
    "        image = decode_image(img_path) # decodes image and returns its tensor\n",
    "        label = self.image_labels.iloc[idx, 1]\n",
    "        if self.transform:\n",
    "            image = self.transform(image)\n",
    "        if self.target_transform:\n",
    "            label = self.target_transform(label)\n",
    "        return image, label"
   ]
  },
  {
   "cell_type": "markdown",
   "id": "9ecf2aa6-89ca-48a8-ae93-4862f4436c14",
   "metadata": {},
   "source": [
    "## Transforms\n",
    "can create our own transforms with Lambda :v\n",
    "\n",
    "the lambda here creates a one hot encoded representation of the label, by creating a tensor of [10] shape and then setting the label's index value to 1."
   ]
  },
  {
   "cell_type": "code",
   "execution_count": null,
   "id": "f0bedee0-5e28-4492-ba60-6b65dc44687d",
   "metadata": {},
   "outputs": [],
   "source": [
    "from torchvision import datasets\n",
    "from torchvision.transforms import Lambda"
   ]
  },
  {
   "cell_type": "code",
   "execution_count": null,
   "id": "c70e0763-450e-4e9a-86c7-eb8d6a206200",
   "metadata": {},
   "outputs": [],
   "source": [
    "train_ds = datasets.FashionMNIST(\n",
    "    root=\"data\",\n",
    "    train=True,\n",
    "    download=True,\n",
    "    transform=ToTensor(),\n",
    "    target_transform=Lambda(lambda y: torch.zeros(10, dtype=torch.float).scatter_(dim=0, index=torch.tensor(y), value=1))\n",
    ")"
   ]
  },
  {
   "cell_type": "code",
   "execution_count": null,
   "id": "85c7f578-6584-45ad-a056-1f72a789ba47",
   "metadata": {},
   "outputs": [],
   "source": []
  }
 ],
 "metadata": {
  "kernelspec": {
   "display_name": "Python 3 (ipykernel)",
   "language": "python",
   "name": "python3"
  },
  "language_info": {
   "codemirror_mode": {
    "name": "ipython",
    "version": 3
   },
   "file_extension": ".py",
   "mimetype": "text/x-python",
   "name": "python",
   "nbconvert_exporter": "python",
   "pygments_lexer": "ipython3",
   "version": "3.11.1"
  }
 },
 "nbformat": 4,
 "nbformat_minor": 5
}
