{
 "cells": [
  {
   "cell_type": "code",
   "execution_count": 1,
   "id": "c11fe49f-3d07-483c-a78a-b19bfc5c0141",
   "metadata": {},
   "outputs": [],
   "source": [
    "import torch, torchvision\n",
    "from torchvision import datasets\n",
    "from torch import nn\n",
    "from torch.utils.data import DataLoader\n",
    "from torchvision.transforms import ToTensor"
   ]
  },
  {
   "cell_type": "code",
   "execution_count": 2,
   "id": "6b058b3c-a539-492a-976e-0d0d6685c54a",
   "metadata": {},
   "outputs": [
    {
     "name": "stdout",
     "output_type": "stream",
     "text": [
      "2.7.1+cpu\n",
      "0.22.1+cpu\n"
     ]
    }
   ],
   "source": [
    "print(torch.__version__)\n",
    "print(torchvision.__version__)"
   ]
  },
  {
   "cell_type": "code",
   "execution_count": 3,
   "id": "efd93e78-a29b-48e0-ae42-9a5711f60de0",
   "metadata": {},
   "outputs": [],
   "source": [
    "train_ds = datasets.FashionMNIST(\n",
    "    root=\"data\",\n",
    "    train=True,\n",
    "    download=True,\n",
    "    transform=ToTensor(),\n",
    ")\n",
    "\n",
    "test_ds = datasets.FashionMNIST(\n",
    "    root=\"data\",\n",
    "    train=False,\n",
    "    download=True,\n",
    "    transform=ToTensor(),\n",
    ")"
   ]
  },
  {
   "cell_type": "code",
   "execution_count": 4,
   "id": "9412fac1-c87e-4a2c-9b4b-a9bbd1f47deb",
   "metadata": {},
   "outputs": [
    {
     "name": "stdout",
     "output_type": "stream",
     "text": [
      "157\n",
      "X's shape [N, C, H, W]: torch.Size([64, 1, 28, 28]), datatype: torch.float32\n",
      "Y's shape: torch.Size([64]), datatype: torch.int64\n"
     ]
    }
   ],
   "source": [
    "BATCH_SIZE = 64\n",
    "\n",
    "train_loader = DataLoader(train_ds, batch_size=BATCH_SIZE)\n",
    "test_loader = DataLoader(test_ds, batch_size=BATCH_SIZE)\n",
    "\n",
    "print(len(test_loader))\n",
    "for x, y in test_loader:\n",
    "    print(f\"X's shape [N, C, H, W]: {x.shape}, datatype: {x.dtype}\")\n",
    "    print(f\"Y's shape: {y.shape}, datatype: {y.dtype}\")\n",
    "    break"
   ]
  },
  {
   "cell_type": "code",
   "execution_count": 5,
   "id": "2e5b7301-56e2-4dfa-a376-c131dd815a33",
   "metadata": {},
   "outputs": [
    {
     "name": "stdout",
     "output_type": "stream",
     "text": [
      "<module 'torch.accelerator' from 'C:\\\\Users\\\\virat\\\\AppData\\\\Local\\\\Programs\\\\Python\\\\Python311\\\\Lib\\\\site-packages\\\\torch\\\\accelerator\\\\__init__.py'>\n"
     ]
    }
   ],
   "source": [
    "print(torch.accelerator)"
   ]
  },
  {
   "cell_type": "code",
   "execution_count": 6,
   "id": "3d989920-338d-4c6d-8a5e-9916c6ea71c5",
   "metadata": {},
   "outputs": [
    {
     "name": "stdout",
     "output_type": "stream",
     "text": [
      "Using cpu device\n",
      "NeuralNetwork(\n",
      "  (flatten): Flatten(start_dim=1, end_dim=-1)\n",
      "  (linear_relu_stack): Sequential(\n",
      "    (0): Linear(in_features=784, out_features=512, bias=True)\n",
      "    (1): ReLU()\n",
      "    (2): Linear(in_features=512, out_features=256, bias=True)\n",
      "    (3): ReLU()\n",
      "    (4): Linear(in_features=256, out_features=128, bias=True)\n",
      "    (5): ReLU()\n",
      "    (6): Linear(in_features=128, out_features=64, bias=True)\n",
      "    (7): ReLU()\n",
      "    (8): Linear(in_features=64, out_features=10, bias=True)\n",
      "  )\n",
      ")\n"
     ]
    }
   ],
   "source": [
    "#device = torch.accelerator.current_accelerator().type if torch.accelerator.is_available else \"cpu\"\n",
    "device = \"cpu\"\n",
    "print(f\"Using {device} device\")\n",
    "\n",
    "class NeuralNetwork(nn.Module):\n",
    "    def __init__(self):\n",
    "        super().__init__()\n",
    "        self.flatten = nn.Flatten()\n",
    "        self.linear_relu_stack = nn.Sequential(\n",
    "            nn.Linear(28*28, 512),\n",
    "            nn.ReLU(),\n",
    "            nn.Linear(512, 256),\n",
    "            nn.ReLU(),\n",
    "            nn.Linear(256, 128),\n",
    "            nn.ReLU(),\n",
    "            nn.Linear(128, 64),\n",
    "            nn.ReLU(),\n",
    "            nn.Linear(64, 10)\n",
    "        )\n",
    "\n",
    "    def forward(self, x):\n",
    "        x = self.flatten(x)\n",
    "        logits = self.linear_relu_stack(x)\n",
    "        return logits\n",
    "\n",
    "model = NeuralNetwork().to(device)\n",
    "print(model)"
   ]
  },
  {
   "cell_type": "code",
   "execution_count": 7,
   "id": "a3f57ca9-e0ff-4878-b00c-ab6638dd0826",
   "metadata": {},
   "outputs": [],
   "source": [
    "loss_fn = nn.CrossEntropyLoss()\n",
    "optim = torch.optim.Adam(model.parameters(), lr=1e-3)"
   ]
  },
  {
   "cell_type": "code",
   "execution_count": 8,
   "id": "b925d248-68e5-4ecc-88f9-8f40c07786e4",
   "metadata": {},
   "outputs": [
    {
     "name": "stdout",
     "output_type": "stream",
     "text": [
      "60000\n",
      "938\n",
      "157\n",
      "10000\n"
     ]
    }
   ],
   "source": [
    "print(len(train_loader.dataset))\n",
    "print(len(train_loader))\n",
    "print(len(test_loader))\n",
    "print(len(test_loader.dataset))"
   ]
  },
  {
   "cell_type": "code",
   "execution_count": 9,
   "id": "a293a4d5-2141-49fd-a151-1f770d31298d",
   "metadata": {},
   "outputs": [],
   "source": [
    "def train(dataloader, model, loss_fn, optim):\n",
    "    size = len(dataloader.dataset)\n",
    "    model.train()\n",
    "\n",
    "    for batch, (X, y) in enumerate(dataloader):\n",
    "        X, y = X.to(device), y.to(device)\n",
    "\n",
    "        # compute loss\n",
    "        pred = model(X)\n",
    "        loss = loss_fn(pred, y)\n",
    "\n",
    "        # backprop\n",
    "        loss.backward()\n",
    "        optim.step()\n",
    "        optim.zero_grad() # reset gradients to 0\n",
    "\n",
    "        if batch % 100 == 0:\n",
    "            loss, current = loss.item(), (batch + 1) * len(X)\n",
    "            print(f\"loss: {loss:>7f}  [{current:>5d}/{size:>5d}]\")"
   ]
  },
  {
   "cell_type": "code",
   "execution_count": 10,
   "id": "63360974-45c2-48ef-94a8-58940c847d93",
   "metadata": {},
   "outputs": [],
   "source": [
    "def test(dataloader, model, loss_fn):\n",
    "    size = len(dataloader.dataset)\n",
    "    num_batches = len(dataloader)\n",
    "    model.eval()\n",
    "    test_loss, correct = 0, 0\n",
    "    \n",
    "    with torch.no_grad():\n",
    "        for X, y in dataloader:\n",
    "            X, y = X.to(device), y.to(device)\n",
    "            pred = model(X) # outputs 10 logits\n",
    "            test_loss += loss_fn(pred, y).item()\n",
    "            correct += (pred.argmax(1) == y).type(torch.float).sum().item()\n",
    "\n",
    "    test_loss /= num_batches\n",
    "    correct /= size\n",
    "\n",
    "    print(f\"Test Error: \\n Accuracy: {100 * correct}%, Avg loss: {test_loss}\\n\")"
   ]
  },
  {
   "cell_type": "code",
   "execution_count": 11,
   "id": "2b05d2d7-2e1e-4915-85db-abb258a1e6cc",
   "metadata": {},
   "outputs": [
    {
     "name": "stdout",
     "output_type": "stream",
     "text": [
      "Epoch 1\n",
      "--------------------\n",
      "loss: 2.294928  [   64/60000]\n",
      "loss: 0.749734  [ 6464/60000]\n",
      "loss: 0.450124  [12864/60000]\n",
      "loss: 0.529639  [19264/60000]\n",
      "loss: 0.508376  [25664/60000]\n",
      "loss: 0.449764  [32064/60000]\n",
      "loss: 0.413610  [38464/60000]\n",
      "loss: 0.551410  [44864/60000]\n",
      "loss: 0.480557  [51264/60000]\n",
      "loss: 0.578094  [57664/60000]\n",
      "Test Error: \n",
      " Accuracy: 82.37%, Avg loss: 0.46492158028350516\n",
      "\n",
      "Epoch 2\n",
      "--------------------\n",
      "loss: 0.344311  [   64/60000]\n",
      "loss: 0.419504  [ 6464/60000]\n",
      "loss: 0.290262  [12864/60000]\n",
      "loss: 0.386299  [19264/60000]\n",
      "loss: 0.395116  [25664/60000]\n",
      "loss: 0.335799  [32064/60000]\n",
      "loss: 0.323321  [38464/60000]\n",
      "loss: 0.471869  [44864/60000]\n",
      "loss: 0.455620  [51264/60000]\n",
      "loss: 0.455168  [57664/60000]\n",
      "Test Error: \n",
      " Accuracy: 83.87%, Avg loss: 0.4288744413928621\n",
      "\n",
      "Epoch 3\n",
      "--------------------\n",
      "loss: 0.271965  [   64/60000]\n",
      "loss: 0.343783  [ 6464/60000]\n",
      "loss: 0.281959  [12864/60000]\n",
      "loss: 0.341144  [19264/60000]\n",
      "loss: 0.357026  [25664/60000]\n",
      "loss: 0.329469  [32064/60000]\n",
      "loss: 0.282660  [38464/60000]\n",
      "loss: 0.384877  [44864/60000]\n",
      "loss: 0.396198  [51264/60000]\n",
      "loss: 0.381415  [57664/60000]\n",
      "Test Error: \n",
      " Accuracy: 85.22999999999999%, Avg loss: 0.39929557890649053\n",
      "\n",
      "Epoch 4\n",
      "--------------------\n",
      "loss: 0.237442  [   64/60000]\n",
      "loss: 0.313889  [ 6464/60000]\n",
      "loss: 0.256035  [12864/60000]\n",
      "loss: 0.302002  [19264/60000]\n",
      "loss: 0.312648  [25664/60000]\n",
      "loss: 0.329073  [32064/60000]\n",
      "loss: 0.256255  [38464/60000]\n",
      "loss: 0.340783  [44864/60000]\n",
      "loss: 0.321641  [51264/60000]\n",
      "loss: 0.338665  [57664/60000]\n",
      "Test Error: \n",
      " Accuracy: 86.41%, Avg loss: 0.3702781724322374\n",
      "\n",
      "Epoch 5\n",
      "--------------------\n",
      "loss: 0.193038  [   64/60000]\n",
      "loss: 0.278405  [ 6464/60000]\n",
      "loss: 0.265190  [12864/60000]\n",
      "loss: 0.262081  [19264/60000]\n",
      "loss: 0.388406  [25664/60000]\n",
      "loss: 0.335354  [32064/60000]\n",
      "loss: 0.274203  [38464/60000]\n",
      "loss: 0.330995  [44864/60000]\n",
      "loss: 0.291416  [51264/60000]\n",
      "loss: 0.336705  [57664/60000]\n",
      "Test Error: \n",
      " Accuracy: 86.71%, Avg loss: 0.3660044237306923\n",
      "\n",
      "\n",
      "Owari da!!!\n"
     ]
    }
   ],
   "source": [
    "epochs = 5\n",
    "for t in range(epochs):\n",
    "    print(f\"Epoch {t + 1}\\n\" + f\"-\"*20)\n",
    "    train(train_loader, model, loss_fn, optim)\n",
    "    test(test_loader, model, loss_fn)\n",
    "\n",
    "print(\"\\nOwari da!!!\")"
   ]
  },
  {
   "cell_type": "code",
   "execution_count": 12,
   "id": "6bef1131-0c88-4d20-b394-483c56538d46",
   "metadata": {},
   "outputs": [],
   "source": [
    "torch.save(model.state_dict(), \"model1.pth\")"
   ]
  },
  {
   "cell_type": "code",
   "execution_count": 13,
   "id": "d10b84e0-2405-49a2-b9d9-848e8a532780",
   "metadata": {},
   "outputs": [
    {
     "data": {
      "text/plain": [
       "<All keys matched successfully>"
      ]
     },
     "execution_count": 13,
     "metadata": {},
     "output_type": "execute_result"
    }
   ],
   "source": [
    "model = NeuralNetwork().to(device)\n",
    "model.load_state_dict(torch.load(\"model1.pth\", weights_only=True))"
   ]
  },
  {
   "cell_type": "code",
   "execution_count": 14,
   "id": "988d3641-d882-4e9d-a280-d42decff95f1",
   "metadata": {},
   "outputs": [
    {
     "name": "stdout",
     "output_type": "stream",
     "text": [
      "Logits' shape: torch.Size([1, 10])\n",
      "Returned logits pre indexing: tensor([[ -4.0576,  18.4834,  -8.7461,  -1.4882,  -0.8848, -18.5769,  -2.6766,\n",
      "         -18.5907, -16.2656, -10.6099]])\n",
      "Returned logits post indexing: tensor([ -4.0576,  18.4834,  -8.7461,  -1.4882,  -0.8848, -18.5769,  -2.6766,\n",
      "        -18.5907, -16.2656, -10.6099])\n",
      "Actual: Trouser, Predicted: Trouser\n"
     ]
    }
   ],
   "source": [
    "classes = [\n",
    "    \"T-shirt/top\",\n",
    "    \"Trouser\",\n",
    "    \"Pullover\",\n",
    "    \"Dress\",\n",
    "    \"Coat\",\n",
    "    \"Sandal\",\n",
    "    \"Shirt\",\n",
    "    \"Sneaker\",\n",
    "    \"Bag\",\n",
    "    \"Ankle boot\",\n",
    "]\n",
    "\n",
    "model.eval()\n",
    "x, y = test_ds[555][0], test_ds[555][1] # respective image and label\n",
    "\n",
    "with torch.no_grad():\n",
    "    x = x.to(device)\n",
    "    pred = model(x)\n",
    "\n",
    "    # just scoping out what up\n",
    "    print(f\"Logits' shape: {pred.shape}\")\n",
    "    print(f\"Returned logits pre indexing: {pred}\")\n",
    "    print(f\"Returned logits post indexing: {pred[0]}\")\n",
    "    # Converting to values\n",
    "    predicted, actual = classes[pred.argmax(1)], classes[y] # returns max value idx across the row\n",
    "    #predicted, actual = classes[pred[0].argmax(0)], classes[y] # returns max value idx in the only remaining dimension since we are indexing into pred with [0]\n",
    "\n",
    "print(f\"Actual: {actual}, Predicted: {predicted}\")"
   ]
  },
  {
   "cell_type": "code",
   "execution_count": null,
   "id": "37167c8c-60ac-4f22-b70f-60a38174906b",
   "metadata": {},
   "outputs": [],
   "source": []
  }
 ],
 "metadata": {
  "kernelspec": {
   "display_name": "Python 3 (ipykernel)",
   "language": "python",
   "name": "python3"
  },
  "language_info": {
   "codemirror_mode": {
    "name": "ipython",
    "version": 3
   },
   "file_extension": ".py",
   "mimetype": "text/x-python",
   "name": "python",
   "nbconvert_exporter": "python",
   "pygments_lexer": "ipython3",
   "version": "3.11.1"
  }
 },
 "nbformat": 4,
 "nbformat_minor": 5
}
